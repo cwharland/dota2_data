{
 "metadata": {
  "name": "",
  "signature": "sha256:cec04bdb101b2383a5ff807735eab93da3416f281527eb51074ba1ecea73c0fe"
 },
 "nbformat": 3,
 "nbformat_minor": 0,
 "worksheets": [
  {
   "cells": [
    {
     "cell_type": "code",
     "collapsed": false,
     "input": [
      "from __future__ import division\n",
      "import pandas as pd\n",
      "import numpy as np\n",
      "import bs4\n",
      "import requests\n",
      "import os\n",
      "import dotabuff\n",
      "from time import sleep\n",
      "#from datetime import timedelta"
     ],
     "language": "python",
     "metadata": {},
     "outputs": [],
     "prompt_number": 22
    },
    {
     "cell_type": "code",
     "collapsed": false,
     "input": [
      "#resp = requests.get('http://www.dotabuff.com/matches/1154125699')\n",
      "#soup = bs4.BeautifulSoup(resp.text)"
     ],
     "language": "python",
     "metadata": {},
     "outputs": [],
     "prompt_number": 2
    },
    {
     "cell_type": "code",
     "collapsed": false,
     "input": [
      "#match_soup = bs4.BeautifulSoup(requests.get('http://www.dotabuff.com/esports/matches').text)\n",
      "#match_id_to_lookup = []\n",
      "#for i in range(1,51):\n",
      "#    match_soup = bs4.BeautifulSoup(requests.get('http://www.dotabuff.com/esports/matches?page=%d' % i).text)\n",
      "#    match_id_to_lookup = match_id_to_lookup + get_match_ids(match_soup)\n",
      "#p.savetxt('D:\\dota2_tournmanet_match_ids.txt', match_id_to_lookup, delimiter=',', fmt = '%d')\n",
      "#match_id_to_lookup = np.loadtxt('D:\\dota2_tournmanet_match_ids.txt', dtype=int)\n",
      "#url = 'http://www.dotabuff.com/matches/%d' % match_id_to_lookup[0]\n",
      "#loc = os.path.join('D:/dota2_matches/','temp_pull.txt')\n",
      "#with open(loc,'wb') as txt_file:\n",
      "#    txt_file.write(requests.get(url).text.encode('UTF-8'))\n",
      "#pull_all_match_pages(match_id_to_lookup[2::])"
     ],
     "language": "python",
     "metadata": {},
     "outputs": [],
     "prompt_number": 3
    },
    {
     "cell_type": "code",
     "collapsed": false,
     "input": [
      "path = '/Users/cwharland/Code/dota2_data/data/samples/%s'\n",
      "fName_match = '1154125699_.txt'\n",
      "fName_builds = '1154125699_builds.txt'\n",
      "fName_farm = '1154125699_farm.txt'\n",
      "fName_obj = '1154125699_objectives.txt'\n",
      "fName_runes = '1154125699_runes.txt'\n",
      "fName_vision = '1154125699_vision.txt'"
     ],
     "language": "python",
     "metadata": {},
     "outputs": [],
     "prompt_number": 4
    },
    {
     "cell_type": "code",
     "collapsed": false,
     "input": [
      "#soup = bs4.BeautifulSoup(open(path % fName_vision).read())"
     ],
     "language": "python",
     "metadata": {},
     "outputs": [],
     "prompt_number": 5
    },
    {
     "cell_type": "code",
     "collapsed": false,
     "input": [
      "#get_match_details(soup)\n",
      "#parse_game_stats(soup)\n",
      "#parse_ability_builds(soup)\n",
      "#get_picks_and_bans(soup)\n",
      "#parse_diff_xp(soup)\n",
      "#parse_item_sequence(soup)\n",
      "#parse_farm_charts(soup)\n",
      "#parse_performace(soup)\n",
      "#parse_runes(soup)\n",
      "#parse_vision(soup)"
     ],
     "language": "python",
     "metadata": {},
     "outputs": [],
     "prompt_number": 6
    },
    {
     "cell_type": "code",
     "collapsed": false,
     "input": [
      "current_match_ids = np.loadtxt('./data/dota2_match_ids.txt', dtype=int, delimiter=',')"
     ],
     "language": "python",
     "metadata": {},
     "outputs": [],
     "prompt_number": 7
    },
    {
     "cell_type": "code",
     "collapsed": false,
     "input": [
      "output_temp = dotabuff.update_match_ids(current_ids=current_match_ids)"
     ],
     "language": "python",
     "metadata": {},
     "outputs": [
      {
       "ename": "ValueError",
       "evalue": "operands could not be broadcast together with shapes (0,) (1000,) ",
       "output_type": "pyerr",
       "traceback": [
        "\u001b[0;31m---------------------------------------------------------------------------\u001b[0m\n\u001b[0;31mValueError\u001b[0m                                Traceback (most recent call last)",
        "\u001b[0;32m<ipython-input-8-b9925a4aba78>\u001b[0m in \u001b[0;36m<module>\u001b[0;34m()\u001b[0m\n\u001b[0;32m----> 1\u001b[0;31m \u001b[0moutput_temp\u001b[0m \u001b[0;34m=\u001b[0m \u001b[0mdotabuff\u001b[0m\u001b[0;34m.\u001b[0m\u001b[0mupdate_match_ids\u001b[0m\u001b[0;34m(\u001b[0m\u001b[0mcurrent_ids\u001b[0m\u001b[0;34m=\u001b[0m\u001b[0mcurrent_match_ids\u001b[0m\u001b[0;34m)\u001b[0m\u001b[0;34m\u001b[0m\u001b[0m\n\u001b[0m",
        "\u001b[0;32m/Users/cwharland/Code/dota2_data/dotabuff.py\u001b[0m in \u001b[0;36mupdate_match_ids\u001b[0;34m(current_ids)\u001b[0m\n\u001b[1;32m    259\u001b[0m             \u001b[0mcaptured_match_ids\u001b[0m \u001b[0;34m=\u001b[0m \u001b[0mcaptured_match_ids\u001b[0m \u001b[0;34m+\u001b[0m \u001b[0mget_match_ids\u001b[0m\u001b[0;34m(\u001b[0m\u001b[0mmatch_soup\u001b[0m\u001b[0;34m)\u001b[0m\u001b[0;34m\u001b[0m\u001b[0m\n\u001b[1;32m    260\u001b[0m \u001b[0;34m\u001b[0m\u001b[0m\n\u001b[0;32m--> 261\u001b[0;31m         \u001b[0;32mreturn\u001b[0m \u001b[0mnp\u001b[0m\u001b[0;34m.\u001b[0m\u001b[0munique\u001b[0m\u001b[0;34m(\u001b[0m\u001b[0mcaptured_match_ids\u001b[0m \u001b[0;34m+\u001b[0m \u001b[0mcurrent_ids\u001b[0m\u001b[0;34m)\u001b[0m\u001b[0;34m\u001b[0m\u001b[0m\n\u001b[0m\u001b[1;32m    262\u001b[0m \u001b[0;34m\u001b[0m\u001b[0m\n\u001b[1;32m    263\u001b[0m \u001b[0;34m\u001b[0m\u001b[0m\n",
        "\u001b[0;31mValueError\u001b[0m: operands could not be broadcast together with shapes (0,) (1000,) "
       ]
      }
     ],
     "prompt_number": 8
    },
    {
     "cell_type": "code",
     "collapsed": false,
     "input": [
      "match_soup = bs4.BeautifulSoup(requests.get('http://www.dotabuff.com/esports/matches?page=%d' % 1).text)"
     ],
     "language": "python",
     "metadata": {},
     "outputs": [],
     "prompt_number": 23
    },
    {
     "cell_type": "code",
     "collapsed": false,
     "input": [
      "req = requests.get('http://www.dotabuff.com/esports/matches?page=%d' % 1).text"
     ],
     "language": "python",
     "metadata": {},
     "outputs": [],
     "prompt_number": 20
    },
    {
     "cell_type": "code",
     "collapsed": false,
     "input": [
      "req"
     ],
     "language": "python",
     "metadata": {},
     "outputs": [
      {
       "metadata": {},
       "output_type": "pyout",
       "prompt_number": 21,
       "text": [
        "u'<!DOCTYPE html>\\n<html>\\n<head>\\n  <title>DOTABUFF - Too Many Requests</title>\\n  <style>\\n    html {\\n      background: #313131;\\n      color: #E1E1E1;\\n      font-family: \"Lucida Grande\", Tahoma, Verdana, Arial, sans-serif;\\n      font-size: 13px;\\n      width: 100%;\\n      height: 100%;\\n    }\\n    body {\\n      margin: 21% auto;\\n      text-align: center;\\n    }\\n    p a {\\n      color: #A9CF54;\\n      text-decoration: none\\n    }\\n    #logo {\\n      -webkit-box-shadow: inset 0 0 3px rgba(0,0,0,0.2);\\n      box-shadow: inset 0 0 3px rgba(0,0,0,0.2);\\n      font-family: \"Arial Black\", Arial;\\n      font-weight: 800;\\n      text-shadow: 0 0 3px #B8020B;\\n      background: #EA030E;\\n      border-radius: 8px;\\n      color: #FFFFFF;\\n      display: inline-block;\\n      padding: 6px 12px;\\n    }\\n    #logo a {\\n      color: #FFFFFF;\\n      text-decoration: none;\\n    }\\n    #status {\\n      font-weight: 200;\\n      color: #A9CF54;\\n    }\\n  </style>\\n</head>\\n<body>\\n  <h1 id=\"logo\"><a href=\"/\">DOTABUFF</a></h1>\\n  <h2 id=\"status\">Too Many Requests</h2>\\n  <p>You have been rate limited for making too many requests. Please try again later.</p>\\n  <p><a href=\"/\">Home</a> | <a href=\"/pages/about#support\">Support</a></p>\\n</body>\\n</html>\\n<!-- EDGE -->\\n'"
       ]
      }
     ],
     "prompt_number": 21
    },
    {
     "cell_type": "code",
     "collapsed": false,
     "input": [],
     "language": "python",
     "metadata": {},
     "outputs": []
    }
   ],
   "metadata": {}
  }
 ]
}